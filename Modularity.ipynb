{
 "cells": [
  {
   "cell_type": "code",
   "execution_count": 4,
   "metadata": {},
   "outputs": [
    {
     "data": {
      "text/plain": [
       "0.7135829964105016"
      ]
     },
     "execution_count": 4,
     "metadata": {},
     "output_type": "execute_result"
    }
   ],
   "source": [
    "import random\n",
    "random.random() #return the next random floating from [0,1)"
   ]
  },
  {
   "cell_type": "code",
   "execution_count": 10,
   "metadata": {},
   "outputs": [
    {
     "data": {
      "text/plain": [
       "1"
      ]
     },
     "execution_count": 10,
     "metadata": {},
     "output_type": "execute_result"
    }
   ],
   "source": [
    "random.seed(2)\n",
    "random.randint(1,5) #return random int a <= N <= b"
   ]
  },
  {
   "cell_type": "code",
   "execution_count": 12,
   "metadata": {
    "scrolled": true
   },
   "outputs": [
    {
     "name": "stdout",
     "output_type": "stream",
     "text": [
      "120\n"
     ]
    }
   ],
   "source": [
    "#recursive\n",
    "\n",
    "def factorial(n):\n",
    "    if n==0:\n",
    "        return 1\n",
    "    else:\n",
    "        return n*factorial(n-1)\n",
    "    \n",
    "print(factorial(5))"
   ]
  },
  {
   "cell_type": "code",
   "execution_count": 29,
   "metadata": {},
   "outputs": [],
   "source": [
    "import random\n",
    "import time\n",
    "random.seed(round(time.time()/3,-1)) # just to seed\n",
    "\n",
    "def playCraps():\n",
    "    \n",
    "    point=-1\n",
    "    while True:\n",
    "        n1,n2=rollTwoDices()\n",
    "        sumn=n1+n2\n",
    "        print(\"You have rolled %d + %d= %d\" %(n1,n2,sumn))\n",
    "    \n",
    "    if point == -1:\n",
    "        if isCraps(sumn):\n",
    "            return printLose()\n",
    "        elif isNaturals(sumn):\n",
    "            return printWin()\n",
    "        point = sumn\n",
    "        printPoint(point)\n",
    "    else:\n",
    "        if sumn==7:\n",
    "            return printLose()\n",
    "        elif sumn==point:\n",
    "            return printWin()\n",
    "        \n",
    "def rollTwoDices():\n",
    "    return(random.randint(1,6),random.randint(1,6))\n",
    "\n",
    "def printLose():\n",
    "    return \"You Lose\"\n",
    "\n",
    "def printWin():\n",
    "    return \"You Win\"\n",
    "\n",
    "def isCraps(x):\n",
    "    if x == 2 or x == 3 or x == 12:\n",
    "        return True\n",
    "    \n",
    "def isNaturals(x):\n",
    "    if x == 7 or x == 11:\n",
    "        return True\n",
    "\n",
    "def printPoint(x):\n",
    "    return x"
   ]
  },
  {
   "cell_type": "code",
   "execution_count": 88,
   "metadata": {},
   "outputs": [
    {
     "name": "stdout",
     "output_type": "stream",
     "text": [
      "['Mar', '             1  2  3']\n",
      "['Mar', '             1  2  3', ' 4  5  6  7  8  9 10']\n",
      "['Mar', '             1  2  3', ' 4  5  6  7  8  9 10', '11 12 13 14 15']\n"
     ]
    }
   ],
   "source": [
    "#Calendar\n",
    "\n",
    "def leapYear(year):\n",
    "    if year%4 !=0:\n",
    "        return False\n",
    "    elif year%100 != 0:\n",
    "        return True\n",
    "    elif year%400 !=0:\n",
    "        return False\n",
    "    else:\n",
    "        return True\n",
    "    \n",
    "def R(y,x):\n",
    "    return y%x\n",
    "\n",
    "def dayOfWeekJan1(year):\n",
    "    A=year\n",
    "    d=R(1+ 5*R(A-1,4)+ 4*R(A-1,100)+ 6*R(A-1,400),7)\n",
    "    \n",
    "def numDaysInMonth(month_num,leap_year):\n",
    "    days=[31,28,31,30,31,30,31,31,30,31,30,31]\n",
    "    if (month_num == 2) and leap_year:\n",
    "        return 29\n",
    "    return days[month_num-1]\n",
    "\n",
    "def constructCalMonth(month_num,first_day_of_month,num_days_in_month):\n",
    "    monthName = ['Jan', 'Feb', 'Mar', 'Apr', 'May', 'Jun','Jul', 'Aug', 'Sep', 'Cct', 'Nov','Dec']\n",
    "    result = []\n",
    "    result.append(monthName[month_num])\n",
    "    \n",
    "    s='   '*first_day_of_month\n",
    "    \n",
    "    for x in range(1, num_days_in_month+1):\n",
    "        s= s + '%3d'%x\n",
    "   \n",
    "        if ((x+first_day_of_month)%7 ==0):\n",
    "            result.append(s[1:]) #why?\n",
    "            s='' #why?\n",
    "            print(result)\n",
    "    \n",
    "    if len(s) != 0:\n",
    "        result.append(s[1:])\n",
    "        \n",
    "    return result   \n",
    "\n",
    "print(constructCalMonth(2,4,15))\n",
    "        \n",
    "        \n",
    "        "
   ]
  },
  {
   "cell_type": "code",
   "execution_count": 87,
   "metadata": {},
   "outputs": [
    {
     "name": "stdout",
     "output_type": "stream",
     "text": [
      "11\n",
      "13\n",
      "16\n",
      "20\n",
      "[]\n"
     ]
    }
   ],
   "source": [
    "ba=10\n",
    "\n",
    "result1 = []\n",
    "\n",
    "for i in range(1,5):\n",
    "    ba= ba + i\n",
    "    print(ba)\n",
    "    \n",
    "    if ((i+ba)%7 == 0):\n",
    "        result1.append(ba[1:])\n",
    "\n",
    "print(result1)"
   ]
  },
  {
   "cell_type": "code",
   "execution_count": 36,
   "metadata": {},
   "outputs": [
    {
     "data": {
      "text/plain": [
       "99"
      ]
     },
     "execution_count": 36,
     "metadata": {},
     "output_type": "execute_result"
    }
   ],
   "source": [
    "1999%100"
   ]
  },
  {
   "cell_type": "code",
   "execution_count": null,
   "metadata": {},
   "outputs": [],
   "source": []
  }
 ],
 "metadata": {
  "kernelspec": {
   "display_name": "Python 3",
   "language": "python",
   "name": "python3"
  },
  "language_info": {
   "codemirror_mode": {
    "name": "ipython",
    "version": 3
   },
   "file_extension": ".py",
   "mimetype": "text/x-python",
   "name": "python",
   "nbconvert_exporter": "python",
   "pygments_lexer": "ipython3",
   "version": "3.6.4"
  }
 },
 "nbformat": 4,
 "nbformat_minor": 2
}
